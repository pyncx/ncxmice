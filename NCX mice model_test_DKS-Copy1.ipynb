{
 "cells": [
  {
   "cell_type": "markdown",
   "metadata": {},
   "source": [
    "## NCX mice model"
   ]
  },
  {
   "cell_type": "markdown",
   "metadata": {},
   "source": [
    "This is the initiation of key variables in the program. \n",
    "- ```no``` and ```ni``` =extracellular an cytopalsmic Na concentrations\n",
    "- ```co``` and ```ci``` = free extra and intracellular Ca concentrations\n",
    "- ```ko``` and ```ki``` = extra and intracellular K concentrations\n",
    "- ```casr``` =ca concentration of SR\n",
    "- ```citot``` =total ca concentration of cytoplasm\n",
    "\n",
    "Concentrations are in mM and the SR volume is assumed to be functionally 10x less than the cytoplasm volume.SR Ca is treated as if it is free in this overly large assumed SR volume  \n",
    "\n",
    "The simulation repeats an ECC cycle of 200 ms 3000 times so the heart is\n",
    " beating at 5 Hz\n",
    " \n",
    "- For total simplicity I am simulating here without using a proper\n",
    "integrator.\n",
    "- This way you can just see the code for the equations.\n",
    "- The stepsize is so small (1 microsecond) the the simulation is accurate without using a complex integrator. \n",
    "- Time is being calculated in milliseconds.\n",
    "- Em is calculated as a charge imbalance in the cytoplasm....I just increase cytoplasmic Na by 4 micromolar to trigger an action potential\n",
    "- After 320 cycles I reduce extracellular Na to 70 mM and then after 1000 cycles increase back to 150 mM."
   ]
  },
  {
   "cell_type": "code",
   "execution_count": 29,
   "metadata": {},
   "outputs": [],
   "source": [
    "import numpy as np\n",
    "from scipy import linalg\n",
    "from scipy.integrate import odeint"
   ]
  },
  {
   "cell_type": "markdown",
   "metadata": {},
   "source": [
    "#### Parameters"
   ]
  },
  {
   "cell_type": "code",
   "execution_count": 44,
   "metadata": {},
   "outputs": [],
   "source": [
    "no = 150; ni = 5.2\n",
    "ko = 5; ki = 145\n",
    "co = 2; ci = 0.0001\n",
    "citot = ci*40\n",
    "casr = 3.3\n",
    "count = 0\n",
    "dt = 0.001; em = -90\n",
    "fr = 1; fo = 0\n",
    "foc = 0; frc = 1\n",
    "t = 0\n",
    "fdk1 = 0\n",
    "fdk2 = 0\n",
    "fdk3 = 0\n",
    "fsrinact = 0.5\n",
    "hh = 0\n",
    "anion = ni + ki + (2*citot) + (2*casr/10)"
   ]
  },
  {
   "cell_type": "markdown",
   "metadata": {},
   "source": [
    "#### Run time variables\n",
    "\n",
    "```Data```is a blank lsit to hold data dictionaries. In each loop of the simulation, a data dictionary is pepread and added to this list. A sample of data dictionary looks as shown below.\n",
    "\n",
    "```\n",
    "{'ninow':ni,'fdknow':fdk2,\\\n",
    "'emout':em,'inaout':ina,\\\n",
    "'foout':fo,'frout':fr,\\\n",
    "'icanow':ica,'incxnow':incx,\\\n",
    "'casrnow':casr,'cinow':ci,'tout':t/1000}\n",
    "```\n",
    "This list of dictionaries is used to creat data frame using ```Pandas``` library in python. Data frame is very convenient for data analysis and plotting."
   ]
  },
  {
   "cell_type": "code",
   "execution_count": 45,
   "metadata": {},
   "outputs": [],
   "source": [
    "Data =[]\n",
    "is_print = True"
   ]
  },
  {
   "cell_type": "markdown",
   "metadata": {},
   "source": [
    "#### Log file to debug errors\n",
    "\n",
    "This file collects the data as we run the code for simulation.We can stop collecting this data by setting ```is_print = False```."
   ]
  },
  {
   "cell_type": "code",
   "execution_count": 46,
   "metadata": {},
   "outputs": [],
   "source": [
    "f = open(\"log_dks.txt\",'w')"
   ]
  },
  {
   "cell_type": "markdown",
   "metadata": {},
   "source": [
    "#### Simulations"
   ]
  },
  {
   "cell_type": "code",
   "execution_count": 47,
   "metadata": {},
   "outputs": [
    {
     "name": "stdout",
     "output_type": "stream",
     "text": [
      "1 1 0.025 2.5e-05 0.999975\n",
      "1 2 45.22180655743958 0.04524566337406798 0.9547543240706489\n",
      "1 3 45.19295240045083 0.08837095697264193 0.9116063075237941\n",
      "1 4 45.1877445697033 0.12951971555669234 0.870413167972736\n",
      "1 5 45.21934055336592 0.16881374909989438 0.8310540883689069\n",
      "2 1 45.29915199224761 0.20637445602749888 0.793408602340126\n",
      "2 2 45.437163797693074 0.24232036992879524 0.7573590477295103\n",
      "2 3 45.64223316909511 0.27676544071150794 0.7227922869027978\n",
      "2 4 45.922358939477924 0.3098178781258972 0.6896008655314472\n",
      "2 5 46.284923177299156 0.3415794188433212 0.6576837483876394\n",
      "3 1 46.7369048729984 0.3721449047791019 0.6269467442513856\n",
      "3 2 47.2850679391639 0.40160208416249776 0.597302708272964\n",
      "3 3 47.93612632314138 0.43003156673271464 0.5686715903018982\n",
      "3 4 48.696889172606305 0.45750688066262385 0.5409803815051544\n",
      "3 5 49.574388870915435 0.4840945918529869 0.5141629985822042\n",
      "4 1 50.57599447678173 0.5098544566265838 0.48816013451760387\n",
      "4 2 51.70951270054983 0.5348395870804824 0.46291909659729485\n",
      "4 3 52.983278082936025 0.5590966148873938 0.43839364589240754\n",
      "4 4 54.406233633661614 0.5826658446184477 0.4145438471399789\n",
      "4 5 55.98800260306754 0.6055813919446953 0.3913359336693828\n",
      "5 1 57.73895165297716 0.6278713057368285 0.36874218836331435\n",
      "5 2 59.67024519915628 0.6495576762909486 0.34674083843420794\n",
      "5 3 61.793890155437566 0.6706567348150994 0.325315958888863\n",
      "5 4 64.12276992857822 0.691178952096545 0.30445737676610807\n",
      "5 5 66.6706660420475 0.711129146945319 0.28416056555272134\n"
     ]
    }
   ],
   "source": [
    "for rep in range(1,5+1):\n",
    "    for i in range(1,5+1):\n",
    "        \n",
    "        if is_print:\n",
    "            f.write(\"rep:\"+str(rep)+\" i:\"+str(i))\n",
    "            f.write(\"\\n\")\n",
    "        \n",
    "        if i==80000:\n",
    "            ni=ni+0.004\n",
    "        if rep>320:\n",
    "            no=70\n",
    "        if rep>1000:\n",
    "            no=150\n",
    "    \n",
    "        t = t+dt\n",
    "        \n",
    "        \n",
    "        k1= 0.025*np.exp((em+90)/12.0)   # <---------------------\n",
    "        fo= fo + ( (fr*k1) - (fo*(0.5+(0.25/k1))) )*dt\n",
    "        fr= fr + ( (1-fr)*(0.15/k1)-(fr*k1) )*dt \n",
    "        \n",
    "        print(rep,i,k1,fo,fr)\n",
    "\n",
    "        \n",
    "        if is_print:\n",
    "            f.write(\"k1:\"+str(k1)+\"|fo:\"+str(fo)+\"|fr:\"+str(fr))\n",
    "            f.write(\"\\n\")\n",
    "            \n",
    "        if em==0:\n",
    "            em=0.001\n",
    "        \n",
    "            \n",
    "        '''Sodium current calculated from a single file channel with\n",
    "        constant field formulation of current\n",
    "        '''\n",
    "        kem1 = np.exp(em/26.0) #<--------------------\n",
    "        ina  = ((-600*fo**2)*em*(no-(ni*kem1)))/((100+no+ni)*(kem1-1.0)) #<=========editted\n",
    "        \n",
    "    \n",
    "        if is_print:\n",
    "            f.write(\"em:\"+str(em)+\"|kem1:\"+str(kem1)+\"|ina:\"+str(ina))\n",
    "            f.write(\"\\n\")\n",
    "        \n",
    "        '''Voltage activated Ca current'''\n",
    "        kca  = 0.025*np.exp((em+60)/12.0) #<-------------------------                              \n",
    "        foc  = foc + ( (frc*kca) - (foc*(0.5+(0.25/kca))) )*dt\n",
    "        frc  = frc + ( (1-frc)*(0.15/kca) - (fr*kca) )*dt \n",
    "        ica = (-900*(fo**2)*em*(co-ci*kem1**2))/((100+co+ci)*(kem1**2-1.0))       #<=========editted\n",
    "        \n",
    "        \n",
    "        if is_print:\n",
    "            f.write(\"kca:\"+str(kca)+\"|foc:\"+str(foc)+\"|frc:\"+str(frc)+\"|ica:\"+str(ica))\n",
    "            f.write(\"\\n\")\n",
    "        \n",
    "        \n",
    "        \n",
    "        '''This is an inward rectifier K channel probability of being open'''\n",
    "        firk= 1/(1+np.exp((em+60)/15)) \n",
    "        \n",
    "        '''This is calculation of the opening probability of a delayed K channel'''\n",
    "        kedk= np.exp((em+42)/10) #<----------------------                                      \n",
    "        fdk1= fdk1 + (((1-fdk1-fdk2-fdk3)*kedk) + (fdk2/kedk) - (fdk1*(kedk+(15/kedk))))*0.0003*dt #?\n",
    "        fdk2= fdk2 + ((fdk1*kedk) - (15*fdk2/kedk))*0.0003*dt\n",
    "        fdk3= fdk3 + ((fdk2*kedk) - (15*fdk3/kedk))*0.0003*dt\n",
    "        \n",
    "        \n",
    "        if is_print:\n",
    "            f.write(\"firk:\"+str(firk)+\"|kedk:\"+str(kedk)+\\\n",
    "                    \"|fdk1:\"+str(fdk1)+\"|fdk2:\"+str(fdk2)+\"|fdk3:\"+str(fdk3))\n",
    "            f.write(\"\\n\")\n",
    "        \n",
    "        '''this is the total K current, which is the sum of inward rectifier and\n",
    "        delayed K current. Like Na channel, the current is caculated from a\n",
    "        constant field equation for a single file channel '''\n",
    "        \n",
    "        ik =-(((250*firk) + (fdk3*220))*em*((ko-(ki*kem1))))/((50+ko+ki)*(kem1-1.0)) # editted\n",
    "        \n",
    "        '''this is a primitive Na/K pump function which is assumed to be just proportional to a\n",
    "            hill equation with 3 Na binding'''   \n",
    "        \n",
    "        ipump=(ni**3)/(((ni**3)+(20**3))*(6*200))  #<==========SOE  editted                               \n",
    "        \n",
    "        '''This is the primitive Na/Ca exchange system employe.Two Na compete with\n",
    "           1 Ca and 1 Na binding independently from Ca, similar to what John Reeves\n",
    "           found 40 years ago'''\n",
    "        \n",
    "        dout=1+(co/0.01)+((no/20)*(1+(no/20.0)))    #<========SOE                              \n",
    "        din =1+(ci/0.01)+((ni/20)*(1+(ni/20.0)))\n",
    "        fco=(co/0.01*dout)  #<=====editted\n",
    "        f2no=(no*no)/(20*20*dout)#<=======editted\n",
    "        fci=(ci)/(0.01*din)#<========editted\n",
    "        f2ni=(ni*ni)/(20*20*din)#<========editted\n",
    "        f3ni=(f2ni*ni)/(ni+30)#<==========editted\n",
    "        f3no=(f2no*no)/(no+30)#<===========editted\n",
    "        \n",
    "        \n",
    "        kem=np.exp(em/55.0) #<--------------\n",
    "        incx=(80*((fco*f3ni*kem)-(fci*f3no/kem)))/(fco+(f3ni*kem)+fci+(f3no/em))#?====editted\n",
    "        \n",
    "        if is_print:\n",
    "            f.write(\"ik:\"+str(ik)+\"|ipump:\"+str(ipump)+\"|dout:\"+str(dout)+\\\n",
    "                    \"|din:\"+str(din)+\"|fco:\"+str(fco)+\"|f2no:\"+str(f2no)+\"|fci:\"+str(fci)+\\\n",
    "        \"|f2ni:\"+str(f2ni)+\"|f3ni:\"+str(f3ni)+\"|f3no:\"+str(f3no)+\\\n",
    "        \"|kem:\"+str(kem)+\"|incx:\"+str(incx))\n",
    "            f.write(\"\\n\")\n",
    "        \n",
    "        '''This is the SR Ca pump function as it depends on binding Ca on the\n",
    "           cytoplasmic side (fcain) and in the SR lumen (fcasr)'''\n",
    "        \n",
    "        fcain=ci/(ci+0.002)                                             \n",
    "        fcasr=casr/(casr+2)\n",
    "        frel=-ica/(-ica+100)\n",
    "        fsrinact= fsrinact+((1-fsrinact)*frel*(2-(fsrinact*0.005)))*dt\n",
    "        dcasr= ((0.015*fcain)-(0.002*fcasr))- (frel*(1-fsrinact)*casr*0.13)\n",
    "        casr= casr+dcasr*10*dt\n",
    "\n",
    "        '''this is the cytoplasmic Na concentration'''\n",
    "        ni=ni-(ina+(ipump*3)+(incx*3))*10*1e-6*dt   \n",
    "        \n",
    "        ''' this is the cytoplasmic K concentration'''\n",
    "        ki=ki-(ik-(ipump*2))*10*1e-6*dt                               \n",
    "\n",
    "        '''This is the total cytoplasmic Ca concentration and the free Ca\n",
    "           concentration, assumed to be 40 times less'''\n",
    "        citot=citot-((((ica/2)-incx)*10*1e-6) +dcasr)*dt                  \n",
    "        ci=citot/40\n",
    "        \n",
    "        '''This is the membrane potential calculated from total charges in\n",
    "           the cytoplasm. The number, 120000 converts charge excess to Em and\n",
    "           reflects the capacitance of the cell'''\n",
    "\n",
    "        em=(ni+ki+(2*citot)+(2*(casr/10))-anion)*12000                     \n",
    "\n",
    "        '''This counter determines when to save a value for plotting'''\n",
    "        count=count+1 \n",
    "        \n",
    "        \n",
    "        if is_print:\n",
    "            f.write(\"fcain:\"+str(fcain)+\"|fcasr:\"+str(fcasr)+\\\n",
    "                    \"|frel:\"+str(frel)+\"|fsrinact:\"+str(fsrinact)+\"|dcasr:\"+str(dcasr)+\\\n",
    "                    \"|casr:\"+str(casr)+\"|ni:\"+str(ni)+\"ki:\"+str(ki)+\\\n",
    "                    \"|citot:\"+str(citot)+\"|ci:\"+str(ci)+\"em:\"+str(em)+\"|count:\"+str(count))\n",
    "            f.write(\"\\n\")\n",
    "\n",
    "        \n",
    "        '''This is the routine to save values for plotting'''\n",
    "        if count>50:                                                \n",
    "            count=0\n",
    "            hh=hh+1\n",
    "            Data.append({'ninow':ni,'fdknow':fdk2,'emout':em,'inaout':ina,\\\n",
    "                         'foout':fo,'frout':fr,'icanow':ica,'incxnow':incx,\\\n",
    "                         'casrnow':casr,'cinow':ci,'tout':t/1000})\n",
    "            \n",
    "        #print(rep,i)\n",
    "        f.write(\"-----------------------------\")\n",
    "        f.write(\"\\n\")\n",
    "f.close()"
   ]
  },
  {
   "cell_type": "markdown",
   "metadata": {},
   "source": [
    "#### Data frame"
   ]
  },
  {
   "cell_type": "code",
   "execution_count": 48,
   "metadata": {},
   "outputs": [],
   "source": [
    "import pandas as pd"
   ]
  },
  {
   "cell_type": "code",
   "execution_count": 49,
   "metadata": {},
   "outputs": [
    {
     "data": {
      "text/html": [
       "<div>\n",
       "<style scoped>\n",
       "    .dataframe tbody tr th:only-of-type {\n",
       "        vertical-align: middle;\n",
       "    }\n",
       "\n",
       "    .dataframe tbody tr th {\n",
       "        vertical-align: top;\n",
       "    }\n",
       "\n",
       "    .dataframe thead th {\n",
       "        text-align: right;\n",
       "    }\n",
       "</style>\n",
       "<table border=\"1\" class=\"dataframe\">\n",
       "  <thead>\n",
       "    <tr style=\"text-align: right;\">\n",
       "      <th></th>\n",
       "    </tr>\n",
       "  </thead>\n",
       "  <tbody>\n",
       "  </tbody>\n",
       "</table>\n",
       "</div>"
      ],
      "text/plain": [
       "Empty DataFrame\n",
       "Columns: []\n",
       "Index: []"
      ]
     },
     "execution_count": 49,
     "metadata": {},
     "output_type": "execute_result"
    }
   ],
   "source": [
    "DF = pd.DataFrame(Data)\n",
    "DF.head(10)"
   ]
  },
  {
   "cell_type": "markdown",
   "metadata": {},
   "source": [
    "#### Plotting\n",
    "\n",
    "We can use Dataframe ```DF``` created above for creating plots. Each column of dataframe are single variables."
   ]
  },
  {
   "cell_type": "code",
   "execution_count": 50,
   "metadata": {},
   "outputs": [],
   "source": [
    "import matplotlib.pyplot as plt\n",
    "import seaborn as sns\n",
    "sns.set()\n",
    "%matplotlib inline"
   ]
  },
  {
   "cell_type": "code",
   "execution_count": 51,
   "metadata": {},
   "outputs": [
    {
     "ename": "KeyError",
     "evalue": "'tout'",
     "output_type": "error",
     "traceback": [
      "\u001b[1;31m---------------------------------------------------------------------------\u001b[0m",
      "\u001b[1;31mKeyError\u001b[0m                                  Traceback (most recent call last)",
      "\u001b[1;32m~\\Anaconda3\\lib\\site-packages\\pandas\\core\\indexes\\base.py\u001b[0m in \u001b[0;36mget_loc\u001b[1;34m(self, key, method, tolerance)\u001b[0m\n\u001b[0;32m   3062\u001b[0m             \u001b[1;32mtry\u001b[0m\u001b[1;33m:\u001b[0m\u001b[1;33m\u001b[0m\u001b[0m\n\u001b[1;32m-> 3063\u001b[1;33m                 \u001b[1;32mreturn\u001b[0m \u001b[0mself\u001b[0m\u001b[1;33m.\u001b[0m\u001b[0m_engine\u001b[0m\u001b[1;33m.\u001b[0m\u001b[0mget_loc\u001b[0m\u001b[1;33m(\u001b[0m\u001b[0mkey\u001b[0m\u001b[1;33m)\u001b[0m\u001b[1;33m\u001b[0m\u001b[0m\n\u001b[0m\u001b[0;32m   3064\u001b[0m             \u001b[1;32mexcept\u001b[0m \u001b[0mKeyError\u001b[0m\u001b[1;33m:\u001b[0m\u001b[1;33m\u001b[0m\u001b[0m\n",
      "\u001b[1;32mpandas\\_libs\\index.pyx\u001b[0m in \u001b[0;36mpandas._libs.index.IndexEngine.get_loc\u001b[1;34m()\u001b[0m\n",
      "\u001b[1;32mpandas\\_libs\\index.pyx\u001b[0m in \u001b[0;36mpandas._libs.index.IndexEngine.get_loc\u001b[1;34m()\u001b[0m\n",
      "\u001b[1;32mpandas\\_libs\\hashtable_class_helper.pxi\u001b[0m in \u001b[0;36mpandas._libs.hashtable.PyObjectHashTable.get_item\u001b[1;34m()\u001b[0m\n",
      "\u001b[1;32mpandas\\_libs\\hashtable_class_helper.pxi\u001b[0m in \u001b[0;36mpandas._libs.hashtable.PyObjectHashTable.get_item\u001b[1;34m()\u001b[0m\n",
      "\u001b[1;31mKeyError\u001b[0m: 'tout'",
      "\nDuring handling of the above exception, another exception occurred:\n",
      "\u001b[1;31mKeyError\u001b[0m                                  Traceback (most recent call last)",
      "\u001b[1;32m<ipython-input-51-e432e9ddd7e1>\u001b[0m in \u001b[0;36m<module>\u001b[1;34m()\u001b[0m\n\u001b[0;32m      2\u001b[0m \u001b[1;33m\u001b[0m\u001b[0m\n\u001b[0;32m      3\u001b[0m \u001b[0mplt\u001b[0m\u001b[1;33m.\u001b[0m\u001b[0msubplot\u001b[0m\u001b[1;33m(\u001b[0m\u001b[1;36m4\u001b[0m\u001b[1;33m,\u001b[0m\u001b[1;36m2\u001b[0m\u001b[1;33m,\u001b[0m\u001b[1;36m1\u001b[0m\u001b[1;33m)\u001b[0m\u001b[1;33m\u001b[0m\u001b[0m\n\u001b[1;32m----> 4\u001b[1;33m \u001b[0mplt\u001b[0m\u001b[1;33m.\u001b[0m\u001b[0mplot\u001b[0m\u001b[1;33m(\u001b[0m\u001b[0mDF\u001b[0m\u001b[1;33m[\u001b[0m\u001b[1;34m'tout'\u001b[0m\u001b[1;33m]\u001b[0m\u001b[1;33m,\u001b[0m\u001b[0mDF\u001b[0m\u001b[1;33m[\u001b[0m\u001b[1;34m'frout'\u001b[0m\u001b[1;33m]\u001b[0m\u001b[1;33m)\u001b[0m\u001b[1;33m\u001b[0m\u001b[0m\n\u001b[0m\u001b[0;32m      5\u001b[0m \u001b[0mplt\u001b[0m\u001b[1;33m.\u001b[0m\u001b[0mplot\u001b[0m\u001b[1;33m(\u001b[0m\u001b[0mDF\u001b[0m\u001b[1;33m[\u001b[0m\u001b[1;34m'tout'\u001b[0m\u001b[1;33m]\u001b[0m\u001b[1;33m,\u001b[0m\u001b[0mDF\u001b[0m\u001b[1;33m[\u001b[0m\u001b[1;34m'foout'\u001b[0m\u001b[1;33m]\u001b[0m\u001b[1;33m)\u001b[0m\u001b[1;33m\u001b[0m\u001b[0m\n\u001b[0;32m      6\u001b[0m \u001b[0mplt\u001b[0m\u001b[1;33m.\u001b[0m\u001b[0mxlabel\u001b[0m\u001b[1;33m(\u001b[0m\u001b[1;34m'Time'\u001b[0m\u001b[1;33m)\u001b[0m\u001b[1;33m\u001b[0m\u001b[0m\n",
      "\u001b[1;32m~\\Anaconda3\\lib\\site-packages\\pandas\\core\\frame.py\u001b[0m in \u001b[0;36m__getitem__\u001b[1;34m(self, key)\u001b[0m\n\u001b[0;32m   2683\u001b[0m             \u001b[1;32mreturn\u001b[0m \u001b[0mself\u001b[0m\u001b[1;33m.\u001b[0m\u001b[0m_getitem_multilevel\u001b[0m\u001b[1;33m(\u001b[0m\u001b[0mkey\u001b[0m\u001b[1;33m)\u001b[0m\u001b[1;33m\u001b[0m\u001b[0m\n\u001b[0;32m   2684\u001b[0m         \u001b[1;32melse\u001b[0m\u001b[1;33m:\u001b[0m\u001b[1;33m\u001b[0m\u001b[0m\n\u001b[1;32m-> 2685\u001b[1;33m             \u001b[1;32mreturn\u001b[0m \u001b[0mself\u001b[0m\u001b[1;33m.\u001b[0m\u001b[0m_getitem_column\u001b[0m\u001b[1;33m(\u001b[0m\u001b[0mkey\u001b[0m\u001b[1;33m)\u001b[0m\u001b[1;33m\u001b[0m\u001b[0m\n\u001b[0m\u001b[0;32m   2686\u001b[0m \u001b[1;33m\u001b[0m\u001b[0m\n\u001b[0;32m   2687\u001b[0m     \u001b[1;32mdef\u001b[0m \u001b[0m_getitem_column\u001b[0m\u001b[1;33m(\u001b[0m\u001b[0mself\u001b[0m\u001b[1;33m,\u001b[0m \u001b[0mkey\u001b[0m\u001b[1;33m)\u001b[0m\u001b[1;33m:\u001b[0m\u001b[1;33m\u001b[0m\u001b[0m\n",
      "\u001b[1;32m~\\Anaconda3\\lib\\site-packages\\pandas\\core\\frame.py\u001b[0m in \u001b[0;36m_getitem_column\u001b[1;34m(self, key)\u001b[0m\n\u001b[0;32m   2690\u001b[0m         \u001b[1;31m# get column\u001b[0m\u001b[1;33m\u001b[0m\u001b[1;33m\u001b[0m\u001b[0m\n\u001b[0;32m   2691\u001b[0m         \u001b[1;32mif\u001b[0m \u001b[0mself\u001b[0m\u001b[1;33m.\u001b[0m\u001b[0mcolumns\u001b[0m\u001b[1;33m.\u001b[0m\u001b[0mis_unique\u001b[0m\u001b[1;33m:\u001b[0m\u001b[1;33m\u001b[0m\u001b[0m\n\u001b[1;32m-> 2692\u001b[1;33m             \u001b[1;32mreturn\u001b[0m \u001b[0mself\u001b[0m\u001b[1;33m.\u001b[0m\u001b[0m_get_item_cache\u001b[0m\u001b[1;33m(\u001b[0m\u001b[0mkey\u001b[0m\u001b[1;33m)\u001b[0m\u001b[1;33m\u001b[0m\u001b[0m\n\u001b[0m\u001b[0;32m   2693\u001b[0m \u001b[1;33m\u001b[0m\u001b[0m\n\u001b[0;32m   2694\u001b[0m         \u001b[1;31m# duplicate columns & possible reduce dimensionality\u001b[0m\u001b[1;33m\u001b[0m\u001b[1;33m\u001b[0m\u001b[0m\n",
      "\u001b[1;32m~\\Anaconda3\\lib\\site-packages\\pandas\\core\\generic.py\u001b[0m in \u001b[0;36m_get_item_cache\u001b[1;34m(self, item)\u001b[0m\n\u001b[0;32m   2484\u001b[0m         \u001b[0mres\u001b[0m \u001b[1;33m=\u001b[0m \u001b[0mcache\u001b[0m\u001b[1;33m.\u001b[0m\u001b[0mget\u001b[0m\u001b[1;33m(\u001b[0m\u001b[0mitem\u001b[0m\u001b[1;33m)\u001b[0m\u001b[1;33m\u001b[0m\u001b[0m\n\u001b[0;32m   2485\u001b[0m         \u001b[1;32mif\u001b[0m \u001b[0mres\u001b[0m \u001b[1;32mis\u001b[0m \u001b[1;32mNone\u001b[0m\u001b[1;33m:\u001b[0m\u001b[1;33m\u001b[0m\u001b[0m\n\u001b[1;32m-> 2486\u001b[1;33m             \u001b[0mvalues\u001b[0m \u001b[1;33m=\u001b[0m \u001b[0mself\u001b[0m\u001b[1;33m.\u001b[0m\u001b[0m_data\u001b[0m\u001b[1;33m.\u001b[0m\u001b[0mget\u001b[0m\u001b[1;33m(\u001b[0m\u001b[0mitem\u001b[0m\u001b[1;33m)\u001b[0m\u001b[1;33m\u001b[0m\u001b[0m\n\u001b[0m\u001b[0;32m   2487\u001b[0m             \u001b[0mres\u001b[0m \u001b[1;33m=\u001b[0m \u001b[0mself\u001b[0m\u001b[1;33m.\u001b[0m\u001b[0m_box_item_values\u001b[0m\u001b[1;33m(\u001b[0m\u001b[0mitem\u001b[0m\u001b[1;33m,\u001b[0m \u001b[0mvalues\u001b[0m\u001b[1;33m)\u001b[0m\u001b[1;33m\u001b[0m\u001b[0m\n\u001b[0;32m   2488\u001b[0m             \u001b[0mcache\u001b[0m\u001b[1;33m[\u001b[0m\u001b[0mitem\u001b[0m\u001b[1;33m]\u001b[0m \u001b[1;33m=\u001b[0m \u001b[0mres\u001b[0m\u001b[1;33m\u001b[0m\u001b[0m\n",
      "\u001b[1;32m~\\Anaconda3\\lib\\site-packages\\pandas\\core\\internals.py\u001b[0m in \u001b[0;36mget\u001b[1;34m(self, item, fastpath)\u001b[0m\n\u001b[0;32m   4113\u001b[0m \u001b[1;33m\u001b[0m\u001b[0m\n\u001b[0;32m   4114\u001b[0m             \u001b[1;32mif\u001b[0m \u001b[1;32mnot\u001b[0m \u001b[0misna\u001b[0m\u001b[1;33m(\u001b[0m\u001b[0mitem\u001b[0m\u001b[1;33m)\u001b[0m\u001b[1;33m:\u001b[0m\u001b[1;33m\u001b[0m\u001b[0m\n\u001b[1;32m-> 4115\u001b[1;33m                 \u001b[0mloc\u001b[0m \u001b[1;33m=\u001b[0m \u001b[0mself\u001b[0m\u001b[1;33m.\u001b[0m\u001b[0mitems\u001b[0m\u001b[1;33m.\u001b[0m\u001b[0mget_loc\u001b[0m\u001b[1;33m(\u001b[0m\u001b[0mitem\u001b[0m\u001b[1;33m)\u001b[0m\u001b[1;33m\u001b[0m\u001b[0m\n\u001b[0m\u001b[0;32m   4116\u001b[0m             \u001b[1;32melse\u001b[0m\u001b[1;33m:\u001b[0m\u001b[1;33m\u001b[0m\u001b[0m\n\u001b[0;32m   4117\u001b[0m                 \u001b[0mindexer\u001b[0m \u001b[1;33m=\u001b[0m \u001b[0mnp\u001b[0m\u001b[1;33m.\u001b[0m\u001b[0marange\u001b[0m\u001b[1;33m(\u001b[0m\u001b[0mlen\u001b[0m\u001b[1;33m(\u001b[0m\u001b[0mself\u001b[0m\u001b[1;33m.\u001b[0m\u001b[0mitems\u001b[0m\u001b[1;33m)\u001b[0m\u001b[1;33m)\u001b[0m\u001b[1;33m[\u001b[0m\u001b[0misna\u001b[0m\u001b[1;33m(\u001b[0m\u001b[0mself\u001b[0m\u001b[1;33m.\u001b[0m\u001b[0mitems\u001b[0m\u001b[1;33m)\u001b[0m\u001b[1;33m]\u001b[0m\u001b[1;33m\u001b[0m\u001b[0m\n",
      "\u001b[1;32m~\\Anaconda3\\lib\\site-packages\\pandas\\core\\indexes\\base.py\u001b[0m in \u001b[0;36mget_loc\u001b[1;34m(self, key, method, tolerance)\u001b[0m\n\u001b[0;32m   3063\u001b[0m                 \u001b[1;32mreturn\u001b[0m \u001b[0mself\u001b[0m\u001b[1;33m.\u001b[0m\u001b[0m_engine\u001b[0m\u001b[1;33m.\u001b[0m\u001b[0mget_loc\u001b[0m\u001b[1;33m(\u001b[0m\u001b[0mkey\u001b[0m\u001b[1;33m)\u001b[0m\u001b[1;33m\u001b[0m\u001b[0m\n\u001b[0;32m   3064\u001b[0m             \u001b[1;32mexcept\u001b[0m \u001b[0mKeyError\u001b[0m\u001b[1;33m:\u001b[0m\u001b[1;33m\u001b[0m\u001b[0m\n\u001b[1;32m-> 3065\u001b[1;33m                 \u001b[1;32mreturn\u001b[0m \u001b[0mself\u001b[0m\u001b[1;33m.\u001b[0m\u001b[0m_engine\u001b[0m\u001b[1;33m.\u001b[0m\u001b[0mget_loc\u001b[0m\u001b[1;33m(\u001b[0m\u001b[0mself\u001b[0m\u001b[1;33m.\u001b[0m\u001b[0m_maybe_cast_indexer\u001b[0m\u001b[1;33m(\u001b[0m\u001b[0mkey\u001b[0m\u001b[1;33m)\u001b[0m\u001b[1;33m)\u001b[0m\u001b[1;33m\u001b[0m\u001b[0m\n\u001b[0m\u001b[0;32m   3066\u001b[0m \u001b[1;33m\u001b[0m\u001b[0m\n\u001b[0;32m   3067\u001b[0m         \u001b[0mindexer\u001b[0m \u001b[1;33m=\u001b[0m \u001b[0mself\u001b[0m\u001b[1;33m.\u001b[0m\u001b[0mget_indexer\u001b[0m\u001b[1;33m(\u001b[0m\u001b[1;33m[\u001b[0m\u001b[0mkey\u001b[0m\u001b[1;33m]\u001b[0m\u001b[1;33m,\u001b[0m \u001b[0mmethod\u001b[0m\u001b[1;33m=\u001b[0m\u001b[0mmethod\u001b[0m\u001b[1;33m,\u001b[0m \u001b[0mtolerance\u001b[0m\u001b[1;33m=\u001b[0m\u001b[0mtolerance\u001b[0m\u001b[1;33m)\u001b[0m\u001b[1;33m\u001b[0m\u001b[0m\n",
      "\u001b[1;32mpandas\\_libs\\index.pyx\u001b[0m in \u001b[0;36mpandas._libs.index.IndexEngine.get_loc\u001b[1;34m()\u001b[0m\n",
      "\u001b[1;32mpandas\\_libs\\index.pyx\u001b[0m in \u001b[0;36mpandas._libs.index.IndexEngine.get_loc\u001b[1;34m()\u001b[0m\n",
      "\u001b[1;32mpandas\\_libs\\hashtable_class_helper.pxi\u001b[0m in \u001b[0;36mpandas._libs.hashtable.PyObjectHashTable.get_item\u001b[1;34m()\u001b[0m\n",
      "\u001b[1;32mpandas\\_libs\\hashtable_class_helper.pxi\u001b[0m in \u001b[0;36mpandas._libs.hashtable.PyObjectHashTable.get_item\u001b[1;34m()\u001b[0m\n",
      "\u001b[1;31mKeyError\u001b[0m: 'tout'"
     ]
    },
    {
     "data": {
      "image/png": "[encoded data removed]",
      "text/plain": [
       "<Figure size 864x1440 with 1 Axes>"
      ]
     },
     "metadata": {},
     "output_type": "display_data"
    }
   ],
   "source": [
    "plt.figure(figsize = [12,20])\n",
    "\n",
    "plt.subplot(4,2,1)\n",
    "plt.plot(DF['tout'],DF['frout'])\n",
    "plt.plot(DF['tout'],DF['foout'])\n",
    "plt.xlabel('Time')\n",
    "plt.title('Fraction of Na chanal available to open')\n",
    "\n",
    "plt.subplot(4,2,2)\n",
    "plt.plot(DF['tout'],DF['inaout'])\n",
    "plt.plot(DF['tout'],DF['frout'])\n",
    "plt.xlabel('Time')\n",
    "plt.title('Fraction of Na chanal available to open')\n",
    "\n",
    "plt.subplot(4,2,3)\n",
    "plt.plot(DF['tout'],DF['emout'])\n",
    "plt.plot(DF['tout'],DF['fdknow'])\n",
    "plt.xlabel('Time')\n",
    "plt.title('Em')\n",
    "\n",
    "plt.subplot(4,2,4)\n",
    "plt.plot(DF['tout'],DF['fdknow'])\n",
    "plt.xlabel('Time')\n",
    "plt.title('Delayed K channel activation parameter(fdk2)')\n",
    "\n",
    "plt.subplot(4,2,5)\n",
    "plt.plot(DF['tout'],DF['ninow'])\n",
    "plt.xlabel('Time')\n",
    "plt.title('Cytoplasmic Na (mM)')\n",
    "\n",
    "plt.subplot(4,2,6)\n",
    "plt.plot(DF['tout'],DF['icanow'])\n",
    "plt.plot(DF['tout'],DF['incxnow'])\n",
    "plt.xlabel('Time')\n",
    "plt.title('Na/Ca exchange current (pA)')\n",
    "\n",
    "plt.subplot(4,2,7)\n",
    "plt.plot(DF['tout'],DF['casrnow'])\n",
    "plt.xlabel('Time')\n",
    "plt.title('Total SR Ca concentration (mM)')\n",
    "\n",
    "plt.subplot(4,2,8)\n",
    "plt.plot(DF['tout'],DF['cinow'])\n",
    "plt.xlabel('Time')\n",
    "plt.title('Cytoplasmic free Ca (uM)')\n",
    "\n",
    "plt.savefig('plot.png')\n",
    "plt.show()\n",
    "\n"
   ]
  },
  {
   "cell_type": "code",
   "execution_count": null,
   "metadata": {},
   "outputs": [],
   "source": []
  },
  {
   "cell_type": "code",
   "execution_count": null,
   "metadata": {},
   "outputs": [],
   "source": []
  },
  {
   "cell_type": "code",
   "execution_count": null,
   "metadata": {},
   "outputs": [],
   "source": []
  }
 ],
 "metadata": {
  "kernelspec": {
   "display_name": "Python 3",
   "language": "python",
   "name": "python3"
  },
  "language_info": {
   "codemirror_mode": {
    "name": "ipython",
    "version": 3
   },
   "file_extension": ".py",
   "mimetype": "text/x-python",
   "name": "python",
   "nbconvert_exporter": "python",
   "pygments_lexer": "ipython3",
   "version": "3.6.5"
  }
 },
 "nbformat": 4,
 "nbformat_minor": 2
}
