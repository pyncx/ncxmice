{
 "cells": [
  {
   "cell_type": "markdown",
   "metadata": {},
   "source": [
    "## NCX mice model"
   ]
  },
  {
   "cell_type": "markdown",
   "metadata": {},
   "source": [
    "This is the initiation of key variables in the program. \n",
    "- ```no``` and ```ni``` =extracellular an cytopalsmic Na concentrations\n",
    "- ```co``` and ```ci``` = free extra and intracellular Ca concentrations\n",
    "- ```ko``` and ```ki``` = extra and intracellular K concentrations\n",
    "- ```casr``` =ca concentration of SR\n",
    "- ```citot``` =total ca concentration of cytoplasm\n",
    "\n",
    "Concentrations are in mM and the SR volume is assumed to be functionally 10x less than the cytoplasm volume.SR Ca is treated as if it is free in this overly large assumed SR volume  \n",
    "\n",
    "The simulation repeats an ECC cycle of 200 ms 3000 times so the heart is\n",
    " beating at 5 Hz\n",
    " \n",
    "- For total simplicity I am simulating here without using a proper\n",
    "integrator.\n",
    "- This way you can just see the code for the equations.\n",
    "- The stepsize is so small (1 microsecond) the the simulation is accurate without using a complex integrator. \n",
    "- Time is being calculated in milliseconds.\n",
    "- Em is calculated as a charge imbalance in the cytoplasm....I just increase cytoplasmic Na by 4 micromolar to trigger an action potential\n",
    "- After 320 cycles I reduce extracellular Na to 70 mM and then after 1000 cycles increase back to 150 mM."
   ]
  },
  {
   "cell_type": "code",
   "execution_count": 1,
   "metadata": {},
   "outputs": [],
   "source": [
    "import numpy as np\n",
    "from scipy import linalg\n",
    "from scipy.integrate import odeint"
   ]
  },
  {
   "cell_type": "markdown",
   "metadata": {},
   "source": [
    "#### Parameters"
   ]
  },
  {
   "cell_type": "code",
   "execution_count": 2,
   "metadata": {},
   "outputs": [],
   "source": [
    "no = 150; ni = 5.2\n",
    "ko = 5; ki = 145\n",
    "co = 2; ci = 0.0001\n",
    "citot = ci*40\n",
    "casr = 3.3\n",
    "count = 0\n",
    "dt = 0.001; em = -90\n",
    "fr = 1; fo = 0\n",
    "foc = 0; frc = 1\n",
    "t = 0\n",
    "fdk1 = 0\n",
    "fdk2 = 0\n",
    "fdk3 = 0\n",
    "fsrinact = 0.5\n",
    "hh = 0\n",
    "anion=ni+ki+(2*citot)+(2*casr/10)"
   ]
  },
  {
   "cell_type": "markdown",
   "metadata": {},
   "source": [
    "#### Run time variables\n",
    "\n",
    "```Data```is a blank lsit to hold data dictionaries. In each loop of the simulation, a data dictionary is pepread and added to this list. A sample of data dictionary looks as shown below.\n",
    "\n",
    "```\n",
    "{'ninow':ni,'fdknow':fdk2,\\\n",
    "'emout':em,'inaout':ina,\\\n",
    "'foout':fo,'frout':fr,\\\n",
    "'icanow':ica,'incxnow':incx,\\\n",
    "'casrnow':casr,'cinow':ci,'tout':t/1000}\n",
    "```\n",
    "This list of dictionaries is used to creat data frame using ```Pandas``` library in python. Data frame is very convenient for data analysis and plotting."
   ]
  },
  {
   "cell_type": "code",
   "execution_count": 17,
   "metadata": {},
   "outputs": [],
   "source": [
    "Data =[]\n",
    "REP = 3000\n",
    "I = 200000"
   ]
  },
  {
   "cell_type": "markdown",
   "metadata": {},
   "source": [
    "#### Log file to debug errors\n",
    "\n",
    "This file collects the data as we run the code for simulation.We can stop collecting this data by setting ```is_print = False```."
   ]
  },
  {
   "cell_type": "markdown",
   "metadata": {},
   "source": [
    "#### Simulations"
   ]
  },
  {
   "cell_type": "code",
   "execution_count": 4,
   "metadata": {
    "scrolled": false
   },
   "outputs": [
    {
     "name": "stdout",
     "output_type": "stream",
     "text": [
      "100 steps in REP done!\n",
      "200 steps in REP done!\n",
      "300 steps in REP done!\n",
      "400 steps in REP done!\n",
      "500 steps in REP done!\n",
      "600 steps in REP done!\n",
      "700 steps in REP done!\n",
      "800 steps in REP done!\n",
      "900 steps in REP done!\n",
      "1000 steps in REP done!\n",
      "1100 steps in REP done!\n",
      "1200 steps in REP done!\n",
      "1300 steps in REP done!\n",
      "1400 steps in REP done!\n",
      "1500 steps in REP done!\n",
      "1600 steps in REP done!\n",
      "1700 steps in REP done!\n",
      "1800 steps in REP done!\n",
      "1900 steps in REP done!\n",
      "2000 steps in REP done!\n",
      "2100 steps in REP done!\n",
      "2200 steps in REP done!\n",
      "2300 steps in REP done!\n",
      "2400 steps in REP done!\n",
      "2500 steps in REP done!\n",
      "2600 steps in REP done!\n",
      "2700 steps in REP done!\n",
      "2800 steps in REP done!\n",
      "2900 steps in REP done!\n",
      "3000 steps in REP done!\n"
     ]
    }
   ],
   "source": [
    "for rep in range(1,REP+1):\n",
    "    pt = True\n",
    "    for i in range(1,I+1):\n",
    "        if i==80000:\n",
    "            ni=ni+0.004\n",
    "        if rep>320:\n",
    "            no=70\n",
    "        if rep>1000:\n",
    "            no=150\n",
    "        t = t+dt\n",
    "        \n",
    "        if rep%100 == 0 and pt:\n",
    "            print(rep, \"steps in REP done!\")\n",
    "            pt = False\n",
    "            \n",
    "            \n",
    "        k1= 0.025*np.exp((em+90)/12.0)  \n",
    "        fo= fo + ( (fr*k1) - (fo*(0.5+(0.25/k1))) )*dt\n",
    "        fr= fr + ( (1-fr)*(0.15/k1)-(fr*k1) )*dt \n",
    "        if em==0:\n",
    "            em=0.001\n",
    "        kem1 = np.exp(em/26.0)\n",
    "        ina  = (-600*fo**2)*em*(no-(ni*kem1))/((100+no+ni)*(kem1-1.0)) \n",
    "        kca  = 0.025*np.exp((em+60)/12.0)                             \n",
    "        foc  = foc + ( (frc*kca) - (foc*(0.5+(0.25/kca))) )*dt\n",
    "        frc  = frc + ( (1-frc)*(0.15/kca) - (fr*kca) )*dt \n",
    "        ica = -900*(fo**2)*em*(co-ci*kem1**2)/((100+co+ci)*(kem1**2-1.0))\n",
    "        firk= 1/(1+np.exp((em+60)/15)) \n",
    "        kedk= np.exp((em+42)/10)                                     \n",
    "        fdk1= fdk1 + (((1-fdk1-fdk2-fdk3)*kedk) + (fdk2/kedk) -\\\n",
    "                      (fdk1*(kedk+(15/kedk))))*0.0003*dt\n",
    "        fdk2= fdk2 + ((fdk1*kedk) - (15*fdk2/kedk))*0.0003*dt\n",
    "        fdk3= fdk3 + ((fdk2*kedk) - (15*fdk3/kedk))*0.0003*dt\n",
    "        ik =-((250*firk) + (fdk3*220))*em*((ko-(ki*kem1))/((50+ko+ki)*(kem1-1.0)))  \n",
    "        ipump=((ni**3)/((ni**3)+(20**3)))*(6*200)      \n",
    "        dout=1+(co/0.01)+((no/20)*(1+(no/20.0)))                            \n",
    "        din= 1+(ci/0.01)+((ni/20)*(1+(ni/20.0)))\n",
    "        fco=(co/0.01)/dout\n",
    "        f2no=no*no/(20*20*dout)\n",
    "        fci=ci/(0.01*din)\n",
    "        f2ni=ni*ni/(20*20*din)\n",
    "        f3ni=f2ni*ni/(ni+30)\n",
    "        f3no=f2no*no/(no+30)\n",
    "        kem=np.exp(em/55.0) \n",
    "        incx=80*(fco*f3ni*kem-fci*f3no/kem)/(fco+f3ni*kem+fci+f3no/kem)\n",
    "        fcain=ci/(ci+0.002)                                             \n",
    "        fcasr=casr/(casr+2)\n",
    "        frel=-ica/(-ica+100)\n",
    "        fsrinact= fsrinact+((1-fsrinact)*frel*(2-(fsrinact*0.005)))*dt\n",
    "        dcasr= ((0.015*fcain)-(0.002*fcasr))- (frel*(1-fsrinact)*casr*0.13)\n",
    "        casr= casr+(dcasr*10)*dt\n",
    "        ni=ni-(ina+(ipump*3)+(incx*3))*1e-6*dt   \n",
    "        ki=ki-(ik-(ipump*2))*1e-6*dt                               \n",
    "        citot=citot-((((ica/2)-incx)*1e-6) + dcasr)*dt                  \n",
    "        ci=citot/40\n",
    "        #anion=ni+ki+2*citot+2*casr/10\n",
    "        \n",
    "        em=(ni+ki+2*citot+2*casr/10-anion)*12000\n",
    "    \n",
    "        count=count+1 \n",
    "        if count>50:                                                \n",
    "            count=0\n",
    "            Data.append({'ninow':ni,'fdknow':fdk2,'emout':em,'inaout':ina,\\\n",
    "                         'foout':fo,'frout':fr,'icanow':ica,'incxnow':incx,\\\n",
    "                         'casrnow':casr,'cinow':ci,'tout':t/1000})"
   ]
  },
  {
   "cell_type": "markdown",
   "metadata": {},
   "source": [
    "#### Data frame"
   ]
  },
  {
   "cell_type": "code",
   "execution_count": 18,
   "metadata": {},
   "outputs": [],
   "source": [
    "import pandas as pd"
   ]
  },
  {
   "cell_type": "code",
   "execution_count": 19,
   "metadata": {},
   "outputs": [
    {
     "data": {
      "text/html": [
       "<div>\n",
       "<style scoped>\n",
       "    .dataframe tbody tr th:only-of-type {\n",
       "        vertical-align: middle;\n",
       "    }\n",
       "\n",
       "    .dataframe tbody tr th {\n",
       "        vertical-align: top;\n",
       "    }\n",
       "\n",
       "    .dataframe thead th {\n",
       "        text-align: right;\n",
       "    }\n",
       "</style>\n",
       "<table border=\"1\" class=\"dataframe\">\n",
       "  <thead>\n",
       "    <tr style=\"text-align: right;\">\n",
       "      <th></th>\n",
       "    </tr>\n",
       "  </thead>\n",
       "  <tbody>\n",
       "  </tbody>\n",
       "</table>\n",
       "</div>"
      ],
      "text/plain": [
       "Empty DataFrame\n",
       "Columns: []\n",
       "Index: []"
      ]
     },
     "execution_count": 19,
     "metadata": {},
     "output_type": "execute_result"
    }
   ],
   "source": [
    "DF = pd.DataFrame(Data)\n",
    "DF.head(10)"
   ]
  },
  {
   "cell_type": "code",
   "execution_count": 20,
   "metadata": {},
   "outputs": [],
   "source": [
    "DF.to_csv(\"data.csv\")"
   ]
  },
  {
   "cell_type": "code",
   "execution_count": 21,
   "metadata": {},
   "outputs": [
    {
     "data": {
      "text/plain": [
       "(0, 1)"
      ]
     },
     "execution_count": 21,
     "metadata": {},
     "output_type": "execute_result"
    }
   ],
   "source": [
    "data = pd.read_csv(\"data.csv\")\n",
    "data.shape"
   ]
  },
  {
   "cell_type": "code",
   "execution_count": 22,
   "metadata": {},
   "outputs": [
    {
     "data": {
      "text/plain": [
       "(0, 0)"
      ]
     },
     "execution_count": 22,
     "metadata": {},
     "output_type": "execute_result"
    }
   ],
   "source": [
    "DF.shape"
   ]
  },
  {
   "cell_type": "markdown",
   "metadata": {},
   "source": [
    "#### Plotting\n",
    "\n",
    "We can use Dataframe ```DF``` created above for creating plots. Each column of dataframe are single variables."
   ]
  },
  {
   "cell_type": "code",
   "execution_count": 23,
   "metadata": {},
   "outputs": [],
   "source": [
    "import matplotlib.pyplot as plt\n",
    "import seaborn as sns\n",
    "sns.set()\n",
    "%matplotlib inline"
   ]
  },
  {
   "cell_type": "code",
   "execution_count": 24,
   "metadata": {},
   "outputs": [
    {
     "ename": "KeyError",
     "evalue": "'tout'",
     "output_type": "error",
     "traceback": [
      "\u001b[1;31m---------------------------------------------------------------------------\u001b[0m",
      "\u001b[1;31mKeyError\u001b[0m                                  Traceback (most recent call last)",
      "\u001b[1;32m~\\Anaconda3\\lib\\site-packages\\pandas\\core\\indexes\\base.py\u001b[0m in \u001b[0;36mget_loc\u001b[1;34m(self, key, method, tolerance)\u001b[0m\n\u001b[0;32m   3062\u001b[0m             \u001b[1;32mtry\u001b[0m\u001b[1;33m:\u001b[0m\u001b[1;33m\u001b[0m\u001b[0m\n\u001b[1;32m-> 3063\u001b[1;33m                 \u001b[1;32mreturn\u001b[0m \u001b[0mself\u001b[0m\u001b[1;33m.\u001b[0m\u001b[0m_engine\u001b[0m\u001b[1;33m.\u001b[0m\u001b[0mget_loc\u001b[0m\u001b[1;33m(\u001b[0m\u001b[0mkey\u001b[0m\u001b[1;33m)\u001b[0m\u001b[1;33m\u001b[0m\u001b[0m\n\u001b[0m\u001b[0;32m   3064\u001b[0m             \u001b[1;32mexcept\u001b[0m \u001b[0mKeyError\u001b[0m\u001b[1;33m:\u001b[0m\u001b[1;33m\u001b[0m\u001b[0m\n",
      "\u001b[1;32mpandas\\_libs\\index.pyx\u001b[0m in \u001b[0;36mpandas._libs.index.IndexEngine.get_loc\u001b[1;34m()\u001b[0m\n",
      "\u001b[1;32mpandas\\_libs\\index.pyx\u001b[0m in \u001b[0;36mpandas._libs.index.IndexEngine.get_loc\u001b[1;34m()\u001b[0m\n",
      "\u001b[1;32mpandas\\_libs\\hashtable_class_helper.pxi\u001b[0m in \u001b[0;36mpandas._libs.hashtable.PyObjectHashTable.get_item\u001b[1;34m()\u001b[0m\n",
      "\u001b[1;32mpandas\\_libs\\hashtable_class_helper.pxi\u001b[0m in \u001b[0;36mpandas._libs.hashtable.PyObjectHashTable.get_item\u001b[1;34m()\u001b[0m\n",
      "\u001b[1;31mKeyError\u001b[0m: 'tout'",
      "\nDuring handling of the above exception, another exception occurred:\n",
      "\u001b[1;31mKeyError\u001b[0m                                  Traceback (most recent call last)",
      "\u001b[1;32m<ipython-input-24-3982b4de46fe>\u001b[0m in \u001b[0;36m<module>\u001b[1;34m()\u001b[0m\n\u001b[0;32m      2\u001b[0m \u001b[1;33m\u001b[0m\u001b[0m\n\u001b[0;32m      3\u001b[0m \u001b[0mplt\u001b[0m\u001b[1;33m.\u001b[0m\u001b[0msubplot\u001b[0m\u001b[1;33m(\u001b[0m\u001b[1;36m4\u001b[0m\u001b[1;33m,\u001b[0m\u001b[1;36m2\u001b[0m\u001b[1;33m,\u001b[0m\u001b[1;36m1\u001b[0m\u001b[1;33m)\u001b[0m\u001b[1;33m\u001b[0m\u001b[0m\n\u001b[1;32m----> 4\u001b[1;33m \u001b[0mplt\u001b[0m\u001b[1;33m.\u001b[0m\u001b[0mplot\u001b[0m\u001b[1;33m(\u001b[0m\u001b[0mDF\u001b[0m\u001b[1;33m[\u001b[0m\u001b[1;34m'tout'\u001b[0m\u001b[1;33m]\u001b[0m\u001b[1;33m,\u001b[0m\u001b[0mDF\u001b[0m\u001b[1;33m[\u001b[0m\u001b[1;34m'frout'\u001b[0m\u001b[1;33m]\u001b[0m\u001b[1;33m)\u001b[0m\u001b[1;33m\u001b[0m\u001b[0m\n\u001b[0m\u001b[0;32m      5\u001b[0m \u001b[0mplt\u001b[0m\u001b[1;33m.\u001b[0m\u001b[0mxlabel\u001b[0m\u001b[1;33m(\u001b[0m\u001b[1;34m'Time'\u001b[0m\u001b[1;33m)\u001b[0m\u001b[1;33m\u001b[0m\u001b[0m\n\u001b[0;32m      6\u001b[0m \u001b[0mplt\u001b[0m\u001b[1;33m.\u001b[0m\u001b[0mtitle\u001b[0m\u001b[1;33m(\u001b[0m\u001b[1;34m'Fraction of Na channels available to open'\u001b[0m\u001b[1;33m)\u001b[0m\u001b[1;33m\u001b[0m\u001b[0m\n",
      "\u001b[1;32m~\\Anaconda3\\lib\\site-packages\\pandas\\core\\frame.py\u001b[0m in \u001b[0;36m__getitem__\u001b[1;34m(self, key)\u001b[0m\n\u001b[0;32m   2683\u001b[0m             \u001b[1;32mreturn\u001b[0m \u001b[0mself\u001b[0m\u001b[1;33m.\u001b[0m\u001b[0m_getitem_multilevel\u001b[0m\u001b[1;33m(\u001b[0m\u001b[0mkey\u001b[0m\u001b[1;33m)\u001b[0m\u001b[1;33m\u001b[0m\u001b[0m\n\u001b[0;32m   2684\u001b[0m         \u001b[1;32melse\u001b[0m\u001b[1;33m:\u001b[0m\u001b[1;33m\u001b[0m\u001b[0m\n\u001b[1;32m-> 2685\u001b[1;33m             \u001b[1;32mreturn\u001b[0m \u001b[0mself\u001b[0m\u001b[1;33m.\u001b[0m\u001b[0m_getitem_column\u001b[0m\u001b[1;33m(\u001b[0m\u001b[0mkey\u001b[0m\u001b[1;33m)\u001b[0m\u001b[1;33m\u001b[0m\u001b[0m\n\u001b[0m\u001b[0;32m   2686\u001b[0m \u001b[1;33m\u001b[0m\u001b[0m\n\u001b[0;32m   2687\u001b[0m     \u001b[1;32mdef\u001b[0m \u001b[0m_getitem_column\u001b[0m\u001b[1;33m(\u001b[0m\u001b[0mself\u001b[0m\u001b[1;33m,\u001b[0m \u001b[0mkey\u001b[0m\u001b[1;33m)\u001b[0m\u001b[1;33m:\u001b[0m\u001b[1;33m\u001b[0m\u001b[0m\n",
      "\u001b[1;32m~\\Anaconda3\\lib\\site-packages\\pandas\\core\\frame.py\u001b[0m in \u001b[0;36m_getitem_column\u001b[1;34m(self, key)\u001b[0m\n\u001b[0;32m   2690\u001b[0m         \u001b[1;31m# get column\u001b[0m\u001b[1;33m\u001b[0m\u001b[1;33m\u001b[0m\u001b[0m\n\u001b[0;32m   2691\u001b[0m         \u001b[1;32mif\u001b[0m \u001b[0mself\u001b[0m\u001b[1;33m.\u001b[0m\u001b[0mcolumns\u001b[0m\u001b[1;33m.\u001b[0m\u001b[0mis_unique\u001b[0m\u001b[1;33m:\u001b[0m\u001b[1;33m\u001b[0m\u001b[0m\n\u001b[1;32m-> 2692\u001b[1;33m             \u001b[1;32mreturn\u001b[0m \u001b[0mself\u001b[0m\u001b[1;33m.\u001b[0m\u001b[0m_get_item_cache\u001b[0m\u001b[1;33m(\u001b[0m\u001b[0mkey\u001b[0m\u001b[1;33m)\u001b[0m\u001b[1;33m\u001b[0m\u001b[0m\n\u001b[0m\u001b[0;32m   2693\u001b[0m \u001b[1;33m\u001b[0m\u001b[0m\n\u001b[0;32m   2694\u001b[0m         \u001b[1;31m# duplicate columns & possible reduce dimensionality\u001b[0m\u001b[1;33m\u001b[0m\u001b[1;33m\u001b[0m\u001b[0m\n",
      "\u001b[1;32m~\\Anaconda3\\lib\\site-packages\\pandas\\core\\generic.py\u001b[0m in \u001b[0;36m_get_item_cache\u001b[1;34m(self, item)\u001b[0m\n\u001b[0;32m   2484\u001b[0m         \u001b[0mres\u001b[0m \u001b[1;33m=\u001b[0m \u001b[0mcache\u001b[0m\u001b[1;33m.\u001b[0m\u001b[0mget\u001b[0m\u001b[1;33m(\u001b[0m\u001b[0mitem\u001b[0m\u001b[1;33m)\u001b[0m\u001b[1;33m\u001b[0m\u001b[0m\n\u001b[0;32m   2485\u001b[0m         \u001b[1;32mif\u001b[0m \u001b[0mres\u001b[0m \u001b[1;32mis\u001b[0m \u001b[1;32mNone\u001b[0m\u001b[1;33m:\u001b[0m\u001b[1;33m\u001b[0m\u001b[0m\n\u001b[1;32m-> 2486\u001b[1;33m             \u001b[0mvalues\u001b[0m \u001b[1;33m=\u001b[0m \u001b[0mself\u001b[0m\u001b[1;33m.\u001b[0m\u001b[0m_data\u001b[0m\u001b[1;33m.\u001b[0m\u001b[0mget\u001b[0m\u001b[1;33m(\u001b[0m\u001b[0mitem\u001b[0m\u001b[1;33m)\u001b[0m\u001b[1;33m\u001b[0m\u001b[0m\n\u001b[0m\u001b[0;32m   2487\u001b[0m             \u001b[0mres\u001b[0m \u001b[1;33m=\u001b[0m \u001b[0mself\u001b[0m\u001b[1;33m.\u001b[0m\u001b[0m_box_item_values\u001b[0m\u001b[1;33m(\u001b[0m\u001b[0mitem\u001b[0m\u001b[1;33m,\u001b[0m \u001b[0mvalues\u001b[0m\u001b[1;33m)\u001b[0m\u001b[1;33m\u001b[0m\u001b[0m\n\u001b[0;32m   2488\u001b[0m             \u001b[0mcache\u001b[0m\u001b[1;33m[\u001b[0m\u001b[0mitem\u001b[0m\u001b[1;33m]\u001b[0m \u001b[1;33m=\u001b[0m \u001b[0mres\u001b[0m\u001b[1;33m\u001b[0m\u001b[0m\n",
      "\u001b[1;32m~\\Anaconda3\\lib\\site-packages\\pandas\\core\\internals.py\u001b[0m in \u001b[0;36mget\u001b[1;34m(self, item, fastpath)\u001b[0m\n\u001b[0;32m   4113\u001b[0m \u001b[1;33m\u001b[0m\u001b[0m\n\u001b[0;32m   4114\u001b[0m             \u001b[1;32mif\u001b[0m \u001b[1;32mnot\u001b[0m \u001b[0misna\u001b[0m\u001b[1;33m(\u001b[0m\u001b[0mitem\u001b[0m\u001b[1;33m)\u001b[0m\u001b[1;33m:\u001b[0m\u001b[1;33m\u001b[0m\u001b[0m\n\u001b[1;32m-> 4115\u001b[1;33m                 \u001b[0mloc\u001b[0m \u001b[1;33m=\u001b[0m \u001b[0mself\u001b[0m\u001b[1;33m.\u001b[0m\u001b[0mitems\u001b[0m\u001b[1;33m.\u001b[0m\u001b[0mget_loc\u001b[0m\u001b[1;33m(\u001b[0m\u001b[0mitem\u001b[0m\u001b[1;33m)\u001b[0m\u001b[1;33m\u001b[0m\u001b[0m\n\u001b[0m\u001b[0;32m   4116\u001b[0m             \u001b[1;32melse\u001b[0m\u001b[1;33m:\u001b[0m\u001b[1;33m\u001b[0m\u001b[0m\n\u001b[0;32m   4117\u001b[0m                 \u001b[0mindexer\u001b[0m \u001b[1;33m=\u001b[0m \u001b[0mnp\u001b[0m\u001b[1;33m.\u001b[0m\u001b[0marange\u001b[0m\u001b[1;33m(\u001b[0m\u001b[0mlen\u001b[0m\u001b[1;33m(\u001b[0m\u001b[0mself\u001b[0m\u001b[1;33m.\u001b[0m\u001b[0mitems\u001b[0m\u001b[1;33m)\u001b[0m\u001b[1;33m)\u001b[0m\u001b[1;33m[\u001b[0m\u001b[0misna\u001b[0m\u001b[1;33m(\u001b[0m\u001b[0mself\u001b[0m\u001b[1;33m.\u001b[0m\u001b[0mitems\u001b[0m\u001b[1;33m)\u001b[0m\u001b[1;33m]\u001b[0m\u001b[1;33m\u001b[0m\u001b[0m\n",
      "\u001b[1;32m~\\Anaconda3\\lib\\site-packages\\pandas\\core\\indexes\\base.py\u001b[0m in \u001b[0;36mget_loc\u001b[1;34m(self, key, method, tolerance)\u001b[0m\n\u001b[0;32m   3063\u001b[0m                 \u001b[1;32mreturn\u001b[0m \u001b[0mself\u001b[0m\u001b[1;33m.\u001b[0m\u001b[0m_engine\u001b[0m\u001b[1;33m.\u001b[0m\u001b[0mget_loc\u001b[0m\u001b[1;33m(\u001b[0m\u001b[0mkey\u001b[0m\u001b[1;33m)\u001b[0m\u001b[1;33m\u001b[0m\u001b[0m\n\u001b[0;32m   3064\u001b[0m             \u001b[1;32mexcept\u001b[0m \u001b[0mKeyError\u001b[0m\u001b[1;33m:\u001b[0m\u001b[1;33m\u001b[0m\u001b[0m\n\u001b[1;32m-> 3065\u001b[1;33m                 \u001b[1;32mreturn\u001b[0m \u001b[0mself\u001b[0m\u001b[1;33m.\u001b[0m\u001b[0m_engine\u001b[0m\u001b[1;33m.\u001b[0m\u001b[0mget_loc\u001b[0m\u001b[1;33m(\u001b[0m\u001b[0mself\u001b[0m\u001b[1;33m.\u001b[0m\u001b[0m_maybe_cast_indexer\u001b[0m\u001b[1;33m(\u001b[0m\u001b[0mkey\u001b[0m\u001b[1;33m)\u001b[0m\u001b[1;33m)\u001b[0m\u001b[1;33m\u001b[0m\u001b[0m\n\u001b[0m\u001b[0;32m   3066\u001b[0m \u001b[1;33m\u001b[0m\u001b[0m\n\u001b[0;32m   3067\u001b[0m         \u001b[0mindexer\u001b[0m \u001b[1;33m=\u001b[0m \u001b[0mself\u001b[0m\u001b[1;33m.\u001b[0m\u001b[0mget_indexer\u001b[0m\u001b[1;33m(\u001b[0m\u001b[1;33m[\u001b[0m\u001b[0mkey\u001b[0m\u001b[1;33m]\u001b[0m\u001b[1;33m,\u001b[0m \u001b[0mmethod\u001b[0m\u001b[1;33m=\u001b[0m\u001b[0mmethod\u001b[0m\u001b[1;33m,\u001b[0m \u001b[0mtolerance\u001b[0m\u001b[1;33m=\u001b[0m\u001b[0mtolerance\u001b[0m\u001b[1;33m)\u001b[0m\u001b[1;33m\u001b[0m\u001b[0m\n",
      "\u001b[1;32mpandas\\_libs\\index.pyx\u001b[0m in \u001b[0;36mpandas._libs.index.IndexEngine.get_loc\u001b[1;34m()\u001b[0m\n",
      "\u001b[1;32mpandas\\_libs\\index.pyx\u001b[0m in \u001b[0;36mpandas._libs.index.IndexEngine.get_loc\u001b[1;34m()\u001b[0m\n",
      "\u001b[1;32mpandas\\_libs\\hashtable_class_helper.pxi\u001b[0m in \u001b[0;36mpandas._libs.hashtable.PyObjectHashTable.get_item\u001b[1;34m()\u001b[0m\n",
      "\u001b[1;32mpandas\\_libs\\hashtable_class_helper.pxi\u001b[0m in \u001b[0;36mpandas._libs.hashtable.PyObjectHashTable.get_item\u001b[1;34m()\u001b[0m\n",
      "\u001b[1;31mKeyError\u001b[0m: 'tout'"
     ]
    },
    {
     "data": {
      "image/png": "[encoded data removed]",
      "text/plain": [
       "<Figure size 864x1440 with 1 Axes>"
      ]
     },
     "metadata": {},
     "output_type": "display_data"
    }
   ],
   "source": [
    "plt.figure(figsize = [12,20])\n",
    "\n",
    "plt.subplot(4,2,1)\n",
    "plt.plot(DF['tout'],DF['frout'])\n",
    "plt.xlabel('Time')\n",
    "plt.title('Fraction of Na channels available to open')\n",
    "\n",
    "plt.subplot(4,2,2)\n",
    "plt.plot(DF['tout'],DF['inaout'])\n",
    "plt.xlabel('Time')\n",
    "plt.title('Na current (pA)')\n",
    "\n",
    "plt.subplot(4,2,3)\n",
    "plt.plot(DF['tout'],DF['emout'])\n",
    "plt.xlabel('Time')\n",
    "#plt.xlim(0,1)\n",
    "plt.title('Em')\n",
    "\n",
    "plt.subplot(4,2,4)\n",
    "plt.plot(DF['tout'],DF['fdknow'])\n",
    "plt.xlabel('Time')\n",
    "plt.title('Delayed K channel activation parameter(fdk2)')\n",
    "\n",
    "plt.subplot(4,2,5)\n",
    "plt.plot(DF['tout'],DF['ninow'])\n",
    "plt.xlabel('Time')\n",
    "plt.title('Cytoplasmic Na (mM)')\n",
    "\n",
    "plt.subplot(4,2,6)\n",
    "#plt.plot(DF['tout'],DF['icanow'])\n",
    "plt.plot(DF['tout'],DF['incxnow'])\n",
    "plt.xlabel('Time')\n",
    "#plt.ylim([4.8,5.4])\n",
    "plt.title('Na/Ca exchange current (pA)')\n",
    "\n",
    "plt.subplot(4,2,7)\n",
    "plt.plot(DF['tout'],DF['casrnow'])\n",
    "plt.xlabel('Time')\n",
    "plt.title('Total SR Ca concentration (mM)')\n",
    "\n",
    "plt.subplot(4,2,8)\n",
    "plt.plot(DF['tout'],DF['cinow']*1000)\n",
    "plt.xlabel('Time')\n",
    "plt.title('Cytoplasmic free Ca (uM)')\n",
    "\n",
    "plt.savefig('plot_compact.png')\n",
    "plt.show()"
   ]
  },
  {
   "cell_type": "code",
   "execution_count": null,
   "metadata": {
    "scrolled": false
   },
   "outputs": [],
   "source": [
    "plt.figure(figsize = [18,40])\n",
    "\n",
    "plt.subplot(8,1,1)\n",
    "plt.plot(DF['tout'],DF['frout'])\n",
    "plt.xlabel('Time')\n",
    "plt.title('Fraction of Na chanal available to open')\n",
    "\n",
    "plt.subplot(8,1,2)\n",
    "plt.plot(DF['tout'],DF['inaout'])\n",
    "plt.xlabel('Time')\n",
    "plt.ylim([-10000,0])\n",
    "plt.title('Na current (pA)')\n",
    "\n",
    "plt.subplot(8,1,3)\n",
    "plt.plot(DF['tout'],DF['emout'])\n",
    "plt.xlabel('Time')\n",
    "plt.ylim([-100,50])\n",
    "plt.title('Em')\n",
    "\n",
    "plt.subplot(8,1,4)\n",
    "plt.plot(DF['tout'],DF['fdknow'])\n",
    "plt.xlabel('Time')\n",
    "plt.ylim([0,0.6])\n",
    "plt.title('Delayed K channel activation parameter(fdk2)')\n",
    "\n",
    "plt.subplot(8,1,5)\n",
    "plt.plot(DF['tout'],DF['ninow'])\n",
    "plt.xlabel('Time')\n",
    "plt.ylim([4.8,5.4])\n",
    "plt.title('Cytoplasmic Na (mM)')\n",
    "\n",
    "plt.subplot(8,1,6)\n",
    "#plt.plot(DF['tout'],DF['icanow'])\n",
    "plt.plot(DF['tout'],DF['incxnow'])\n",
    "plt.xlabel('Time')\n",
    "plt.ylim([-4,2])\n",
    "plt.title('Na/Ca exchange current (pA)')\n",
    "\n",
    "plt.subplot(8,1,7)\n",
    "plt.plot(DF['tout'],DF['casrnow'])\n",
    "plt.xlabel('Time')\n",
    "plt.ylim([2,5])\n",
    "plt.title('Total SR Ca concentration (mM)')\n",
    "\n",
    "plt.subplot(8,1,8)\n",
    "plt.plot(DF['tout'],DF['cinow']*1000)\n",
    "plt.xlabel('Time')\n",
    "plt.ylim([0,3])\n",
    "plt.title('Cytoplasmic free Ca (uM)')\n",
    "\n",
    "plt.savefig('plot_flat.png')\n",
    "plt.show()"
   ]
  },
  {
   "cell_type": "code",
   "execution_count": null,
   "metadata": {},
   "outputs": [],
   "source": []
  },
  {
   "cell_type": "code",
   "execution_count": null,
   "metadata": {},
   "outputs": [],
   "source": []
  },
  {
   "cell_type": "code",
   "execution_count": null,
   "metadata": {},
   "outputs": [],
   "source": []
  },
  {
   "cell_type": "code",
   "execution_count": null,
   "metadata": {},
   "outputs": [],
   "source": []
  }
 ],
 "metadata": {
  "kernelspec": {
   "display_name": "Python 3",
   "language": "python",
   "name": "python3"
  },
  "language_info": {
   "codemirror_mode": {
    "name": "ipython",
    "version": 3
   },
   "file_extension": ".py",
   "mimetype": "text/x-python",
   "name": "python",
   "nbconvert_exporter": "python",
   "pygments_lexer": "ipython3",
   "version": "3.6.5"
  }
 },
 "nbformat": 4,
 "nbformat_minor": 2
}
