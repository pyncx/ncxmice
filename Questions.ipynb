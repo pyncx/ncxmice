{
 "cells": [
  {
   "cell_type": "markdown",
   "metadata": {},
   "source": [
    "### Questions"
   ]
  },
  {
   "cell_type": "markdown",
   "metadata": {},
   "source": [
    "  For voltage activated Na current,\n",
    " - what  are fo and fr and how these equations are formulated?\n",
    " - What is k1?\n",
    " - Is T is room temperature?\n",
    " \n",
    "  For voltage activated Ca current,\n",
    "  - what are kca, foc, frc and how these equations are formulated?\n",
    "    \n",
    "  For open probability of inward rectifier K channel,\n",
    "  \n",
    "  -How is the firk is formulated and what are the numbers 60 and 15? \n",
    "  \n",
    "  Open probability of a delayed rectifier K channel\n",
    "  \n",
    "  - how are these differential equations for kedk,fdk1, fdk2 and fdk3 are written?\n",
    "    \n",
    "   For the SR Ca pump function,\n",
    "      - how are the equations for the fcain, fcasr, frel, fsrinact are formulated?\n",
    "      - what is the abbreviation for the frel and fsrinact?\n",
    "      \n",
    "      \n",
    "      \n",
    "      Confusions in the equations:\n",
    "      fr= fr+((1-fr)*(0.15/float(k1))-(fr*k1))*dt #?\n",
    "      frc  = frc+((1-frc)*(0.15/float(kca))-(fr*kca))*dt #?\n",
    "      incx=80*(fco*f3ni*kem-fci*f3no/float(kem))/(fco+f3ni*kem+fci+f3no/float(em))#?\n",
    "      em=(ni+ki+2*citot+2*(casr/10)-anion)*12000\n",
    "    \n",
    "    \n",
    "    \n",
    "    \n",
    "    \n",
    "    \n",
    "    \n",
    "    "
   ]
  },
  {
   "cell_type": "code",
   "execution_count": null,
   "metadata": {},
   "outputs": [],
   "source": []
  },
  {
   "cell_type": "code",
   "execution_count": null,
   "metadata": {},
   "outputs": [],
   "source": []
  }
 ],
 "metadata": {
  "kernelspec": {
   "display_name": "Python 3",
   "language": "python",
   "name": "python3"
  },
  "language_info": {
   "codemirror_mode": {
    "name": "ipython",
    "version": 3
   },
   "file_extension": ".py",
   "mimetype": "text/x-python",
   "name": "python",
   "nbconvert_exporter": "python",
   "pygments_lexer": "ipython3",
   "version": "3.6.5"
  }
 },
 "nbformat": 4,
 "nbformat_minor": 2
}
