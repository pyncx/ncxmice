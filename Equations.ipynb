{
 "cells": [
  {
   "cell_type": "markdown",
   "metadata": {},
   "source": [
    "## NCX mice model"
   ]
  },
  {
   "cell_type": "markdown",
   "metadata": {},
   "source": [
    "### Equations"
   ]
  },
  {
   "cell_type": "markdown",
   "metadata": {},
   "source": [
    "### Voltage activated Na current\n",
    "This is the sodium curent,calculated from a single (file ?) channel with\n",
    "constant field formulation of current"
   ]
  },
  {
   "cell_type": "markdown",
   "metadata": {},
   "source": [
    "$\\large{k_1 = 0.025 \\times e^{\\frac{em+90}{12}}}$\n",
    "\n",
    "$\\large{f_o = f_o + (f_rk_1 - f_o(\\frac{1}{2} + \\frac{1}{4k_1}))dt}$\n",
    "\n",
    "$\\large{f_r = f_r + ((1-f_r)\\frac{0.15}{k_1} - f_rk_1)dt}$\n",
    "\n",
    "$\\large{k_{em1} = e^{\\frac{em}{26}}}$\n",
    "\n",
    "$\\large{ i_{na} = (-600~f_o^{2})~em~\\frac{(n_o -n_iK_{em1})}{(100 + n_o + n_i)(K_{em1} -1.0)} }$"
   ]
  },
  {
   "cell_type": "markdown",
   "metadata": {},
   "source": [
    "---------"
   ]
  },
  {
   "cell_type": "markdown",
   "metadata": {},
   "source": [
    "```\n",
    "k1=0.025*exp((em+90)/12);\n",
    "fo=fo+ (fr*k1-fo*(0.5+0.25/k1))*dt;\n",
    "fr=fr+((1-fr)*0.15/k1 - fr*k1)*dt;\n",
    "kem1 = exp( em / 26.0);\n",
    "ina =(-600* fo^2 )* em * (no  - ni * kem1) /( (100 + no + ni)*(kem1 - 1.0 ));\n",
    "```"
   ]
  },
  {
   "cell_type": "markdown",
   "metadata": {},
   "source": [
    "--------"
   ]
  },
  {
   "cell_type": "markdown",
   "metadata": {},
   "source": [
    "--------"
   ]
  },
  {
   "cell_type": "markdown",
   "metadata": {},
   "source": [
    "### Voltage activated Ca current \n",
    "This is voltage activated Ca current"
   ]
  },
  {
   "cell_type": "markdown",
   "metadata": {},
   "source": [
    "$\\large{k_{ca} = 0.025 e^{\\frac{(em+60)}{12}}}$\n",
    "\n",
    "$\\large{f_{oc} = f_{oc} +(f_{rc} k_{ca}-f_{oc}(\\frac{1}{2}+\\frac{1}{k_{ca}}))dt}$\n",
    "\n",
    "$\\large{f_{rc} = f_{rc} +((1-f_{rc})\\frac{0.15}{k{ca}}-f_{r}k_{ca})dt}$\n",
    "\n",
    "$\\large{i_{ca} = (-900~f_o^{2}~em~\\frac{(c_o-c_ik_{em1}^2)}{(100+c_o+c_i)(k_{em1}^2-1.0)}}$\n",
    "\n"
   ]
  },
  {
   "cell_type": "markdown",
   "metadata": {},
   "source": [
    "```\n",
    "kca=0.025*exp((em+60)/12);\n",
    "foc=foc+ (frc*kca-foc*(0.5+0.25/kca))*dt;\n",
    "frc=frc+((1-frc)*0.15/kca - fr*kca)*dt;\n",
    "ica= -900* fo^2 * em * (co  - ci * kem1^2) /( (100 + co + ci)*(kem1^2 - 1.0 ));\n",
    "```"
   ]
  },
  {
   "cell_type": "markdown",
   "metadata": {},
   "source": [
    "---------"
   ]
  },
  {
   "cell_type": "markdown",
   "metadata": {},
   "source": [
    "### Open probability of inward rectifier K channel\n",
    "This is an inward rectifier K channel probability of being open"
   ]
  },
  {
   "cell_type": "markdown",
   "metadata": {},
   "source": [
    "$\\large{f_{irk}} = \\frac{1}{1+e^\\frac{(em+60)}{15}}$"
   ]
  },
  {
   "cell_type": "markdown",
   "metadata": {},
   "source": [
    "```\n",
    "firk=1/(1+exp((em+60)/15));\n",
    "```"
   ]
  },
  {
   "cell_type": "markdown",
   "metadata": {},
   "source": [
    "### Open probability of a delayed rectifier K channel\n",
    "This is calculation of the opening probability of a delayed K channel"
   ]
  },
  {
   "cell_type": "markdown",
   "metadata": {},
   "source": [
    "$\\large k_{edk} = e^\\frac{(em+42)}{10}$\n",
    "\n",
    "$\\large f_{dk1} = f_{dk1}+ ((1-f_{dk1}-f_{dk2}-f_{dk3})\\times k_{edk}+\\frac{f_{dk2}}{k_{edk}}-f_{dk1}\\times(k_{edk}+\\frac{15}{k_{edk}})) \\times 0.0003dt$\n",
    "\n",
    "$\\large f_{dk2} = f_{dk2}+(f_{dk1}\\times k_{edk} - 15 \\times \\frac{f{dk2}}{kedk}) \\times 0.0003 dt$\n",
    "\n",
    "$\\large f_{dk3} = f_{dk3}+ (f_{dk2} \\times k_{edk}-15 \\times \\frac{f{dk3}}{k{edk}}) \\times 0.0003dt$"
   ]
  },
  {
   "cell_type": "markdown",
   "metadata": {},
   "source": [
    "```\n",
    "kedk=exp((em+42)/10);\n",
    "fdk1=fdk1+((1-fdk1-fdk2-fdk3)*kedk + fdk2/kedk  -fdk1*(kedk+15/kedk))*0.0003*dt;\n",
    "fdk2=  fdk2 + (fdk1*kedk-15*fdk2/kedk)*0.0003*dt;\n",
    "fdk3=  fdk3 + (fdk2*kedk-15*fdk3/kedk)*0.0003*dt;\n",
    "```\n"
   ]
  },
  {
   "cell_type": "markdown",
   "metadata": {},
   "source": [
    "### Total K current\n",
    "Which is the sum of inward rectifier and delayed K current. \n",
    "Like Na channel, the current is caculated from a constant field equation for a single file channel"
   ]
  },
  {
   "cell_type": "markdown",
   "metadata": {},
   "source": [
    "$\\large i_k = -(250 \\times f_{irk}+ f_{dk3} \\times 220) \\times em \\times \\frac{(k_o-k_ik_{em1})}{((50+k_o+k_i)(k_{em1} - 1.0))}$"
   ]
  },
  {
   "cell_type": "markdown",
   "metadata": {},
   "source": [
    "```ik =- (250*firk+fdk3*220) * em * (ko  - ki * kem1) /( (50 + ko + ki)*(kem1 - 1.0 ));\n",
    "```"
   ]
  },
  {
   "cell_type": "markdown",
   "metadata": {},
   "source": [
    "### Na/K pump function\n",
    "This is a primitive Na/K pump function which is assumed to be just proportional to a\n",
    "hill equation with 3 Na binding."
   ]
  },
  {
   "cell_type": "markdown",
   "metadata": {},
   "source": [
    "$\\large i_{pump} = \\frac{n_i^3}{(ni^3+20^3)} \\times 6 \\times 200 $"
   ]
  },
  {
   "cell_type": "markdown",
   "metadata": {},
   "source": [
    "```\n",
    "ipump=ni^3/(ni^3+20^3)*6*200;\n",
    "```"
   ]
  },
  {
   "cell_type": "markdown",
   "metadata": {},
   "source": [
    "## Na/Ca exchange current\n",
    "This is the primitive Na/Ca exchange system employe.Two Na compete with\n",
    "1 Ca and 1 Na binding independently from Ca, similar to what John Reeves\n",
    "found 40 years ago."
   ]
  },
  {
   "cell_type": "markdown",
   "metadata": {},
   "source": [
    "$\\large d_{out} = 1+ \\frac{c_o}{0.01}+ \\frac{no}{20(1+\\frac{n_o}{20})}$\n",
    "\n",
    "$\\large d_{in} = 1+ \\frac{c_i}{0.01}+ \\frac{ni}{20(1+\\frac{n_i}{20})}$\n",
    "\n",
    "$\\large f_{co} = \\frac{c_o}{0.1 \\times d_{out}}$\n",
    "\n",
    "$\\large f_{2no} = \\frac{n_o \\times n_o}{20 \\times 20 \\times d_{out}}$\n",
    "\n",
    "$\\large f_{ci} = \\frac{ci}{0.01 \\times d_{in}}$\n",
    "\n",
    "$\\large f_{2ni} = \\frac{n_i \\times n_i}{20 \\times 20 \\times d_{out}}$\n",
    "\n",
    "$\\large f_{3ni} = \\frac{f_{2ni} \\times n_i}{(n_i+30)}$\n",
    "\n",
    "$\\large f_{3no} = \\frac{f_{2no} \\times n_o}{(n_o+30)}$\n",
    "\n",
    "$\\large k_{em} = e^\\frac{em}{55}$\n",
    "\n",
    "$\\large i_{ncx} = \\frac{80(f_{co} \\times f_{3ni} \\times k_{em} - f_{ci}\\frac{f_{3no}}{k_{em}})}{f_{co}+f_{3ni} \\times k_{em}+f_{ci}+\\frac{f_{3no}}{K_{em}}}$"
   ]
  },
  {
   "cell_type": "markdown",
   "metadata": {},
   "source": [
    "```\n",
    "dout=1+co/0.01+no/20*(1+no/20);\n",
    "din=1+ci/0.01+ni/20*(1+ni/20);\n",
    "fco=co/0.01/dout;\n",
    "f2no=no*no/20/20/dout;\n",
    "fci=ci/0.01/din;\n",
    "f2ni=ni*ni/20/20/din;\n",
    "f3ni=f2ni*ni/(ni+30);\n",
    "f3no=f2no*no/(no+30);\n",
    "kem=exp(em/55);\n",
    "incx=80*(fco*f3ni*kem-fci*f3no/kem)/(fco+f3ni*kem+fci+f3no/kem);\n",
    "```"
   ]
  },
  {
   "cell_type": "markdown",
   "metadata": {},
   "source": [
    "### SR Ca pump function\n",
    "This is the SR Ca pump function as it depends on binding Ca on the\n",
    "cytoplasmic side (fcain) and in the SR lumen (fcasr)"
   ]
  },
  {
   "cell_type": "markdown",
   "metadata": {},
   "source": [
    "$\\large f_{cain} = \\frac{c_i}{c_i+0.002}$\n",
    "\n",
    "$\\large f_{casr} = \\frac{casr}{casr+2}$\n",
    "\n",
    "$\\large f_{rel} = -\\frac{i_{ca}}{(-i_{ca}+100)}$\n",
    "\n",
    "$\\large f_{srinact} = f_{srinact}+((1-f_{srinact}) \\times f_{rel} \\times 2-f_{srinact} \\times 0.005)dt$\n",
    "\n",
    "$\\large d_{casr} = (0.015 \\times f_{cain}-0.002 \\times f_{casr})-f_{rel}\\times (1-f_{srinact}) \\times casr \\times 0.13$\n",
    "\n",
    "$\\large {casr} = (casr +d_{casr}10)dt$"
   ]
  },
  {
   "cell_type": "markdown",
   "metadata": {},
   "source": [
    "```\n",
    "fcain=ci/(ci+0.002);\n",
    "fcasr=casr/(casr+2);\n",
    "frel=-ica/(-ica+100);\n",
    "fsrinact=fsrinact+((1-fsrinact)*frel*2-fsrinact*0.005)*dt; \n",
    "dcasr=(0.015*fcain-0.002*fcasr)-frel*(1-fsrinact)*casr*0.13;\n",
    "casr=casr+dcasr*10*dt;\n",
    "```"
   ]
  },
  {
   "cell_type": "markdown",
   "metadata": {},
   "source": [
    "### This is the cytoplasmic Na concentration"
   ]
  },
  {
   "cell_type": "markdown",
   "metadata": {},
   "source": [
    "$\\large {n_i} = n_{i}-(i_{na}+i_{pump} \\times 3+i_{ncx} \\times 3) \\times 10^-6 \\times dt$"
   ]
  },
  {
   "cell_type": "markdown",
   "metadata": {},
   "source": [
    "```ni=ni-(ina+ipump*3+incx*3)*10^-6*dt ;```"
   ]
  },
  {
   "cell_type": "markdown",
   "metadata": {},
   "source": [
    "### This is the cytoplasmic K concentration"
   ]
  },
  {
   "cell_type": "markdown",
   "metadata": {},
   "source": [
    "$\\large k_i = k_i - (i_k-i_{pump} \\times 2) \\times 10^-6 \\times dt$"
   ]
  },
  {
   "cell_type": "markdown",
   "metadata": {},
   "source": [
    "```ki=ki-(ik-ipump*2)*10^-6*dt;```"
   ]
  },
  {
   "cell_type": "markdown",
   "metadata": {},
   "source": [
    "### This is the total cytoplasmic Ca concentration \n",
    "And the free Ca concentration, assumed to be 40 times less"
   ]
  },
  {
   "cell_type": "markdown",
   "metadata": {},
   "source": [
    "$\\large c_{itot} = c_{itot}-((\\frac{i_{ica}}{2}-i_{ncx}) \\times 10^-6 + d_{casr}) \\times dt$\n",
    "\n",
    "$\\large c_i = \\frac{c_{itot}}{40}$"
   ]
  },
  {
   "cell_type": "code",
   "execution_count": null,
   "metadata": {},
   "outputs": [],
   "source": [
    "citot=citot-((ica/2-incx)*10^-6 +dcasr)*dt;\n",
    "ci=citot/40;"
   ]
  },
  {
   "cell_type": "markdown",
   "metadata": {},
   "source": [
    "### Calculation of the membrane potentail\n",
    "This is the membrane potential calculated from total charges in\n",
    "the cytoplasm. The number, 120000 converts charge excess to Em and\n",
    "reflects the capacitance of the cell"
   ]
  },
  {
   "cell_type": "markdown",
   "metadata": {},
   "source": [
    "$\\large em = (n_i+k_i+2 \\times c_{itot}+ 2 \\times\\frac{casr}{10}-anion) \\times 12000$"
   ]
  },
  {
   "cell_type": "markdown",
   "metadata": {},
   "source": [
    "```em=(ni+ki+2*citot+2*casr/10-anion)*12000;```"
   ]
  },
  {
   "cell_type": "code",
   "execution_count": null,
   "metadata": {},
   "outputs": [],
   "source": []
  },
  {
   "cell_type": "code",
   "execution_count": null,
   "metadata": {},
   "outputs": [],
   "source": []
  },
  {
   "cell_type": "code",
   "execution_count": null,
   "metadata": {},
   "outputs": [],
   "source": []
  },
  {
   "cell_type": "code",
   "execution_count": null,
   "metadata": {},
   "outputs": [],
   "source": []
  }
 ],
 "metadata": {
  "kernelspec": {
   "display_name": "Python 3",
   "language": "python",
   "name": "python3"
  },
  "language_info": {
   "codemirror_mode": {
    "name": "ipython",
    "version": 3
   },
   "file_extension": ".py",
   "mimetype": "text/x-python",
   "name": "python",
   "nbconvert_exporter": "python",
   "pygments_lexer": "ipython3",
   "version": "3.6.5"
  }
 },
 "nbformat": 4,
 "nbformat_minor": 4
}
