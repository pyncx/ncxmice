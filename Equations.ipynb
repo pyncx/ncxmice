{
 "cells": [
  {
   "cell_type": "markdown",
   "metadata": {},
   "source": [
    "## Equations"
   ]
  },
  {
   "cell_type": "markdown",
   "metadata": {},
   "source": [
    "Markov Model: Equation of states"
   ]
  },
  {
   "cell_type": "markdown",
   "metadata": {},
   "source": [
    "$\\large{k_1 = 0.025 \\times e^{\\frac{em+90}{12}}}$\n",
    "\n",
    "$\\large{f_o = f_o + (f_rk_1 - f_o(\\frac{1}{2} + \\frac{1}{4k_1}))dt}$\n",
    "\n",
    "$\\large{f_r = f_r + ((1-f_r)\\frac{0.15}{k_1} - f_rk_1)dt}$"
   ]
  },
  {
   "cell_type": "markdown",
   "metadata": {},
   "source": [
    "---------"
   ]
  },
  {
   "cell_type": "markdown",
   "metadata": {},
   "source": [
    "```\n",
    "k1= 0.025*np.exp((em+90)/12.0)   \n",
    "fo= fo+(fr*k1-fo*(0.5+(0.25/k1)))*dt\n",
    "fr= fr+((1-fr)*(0.15/k1)-(fr*k1))*dt \n",
    "```"
   ]
  },
  {
   "cell_type": "markdown",
   "metadata": {},
   "source": [
    "--------"
   ]
  },
  {
   "cell_type": "markdown",
   "metadata": {},
   "source": [
    "$\\large{K_{em1} = e^{\\frac{em}{26}}}$\n",
    "\n",
    "$\\large{ I_{na} = (-600~f_o^{2})~em~\\frac{(n_o -n_iK_{em1})}{(100 + n_o + n_i)(K_{em1} -1.0)} }$"
   ]
  },
  {
   "cell_type": "markdown",
   "metadata": {},
   "source": [
    "-------"
   ]
  },
  {
   "cell_type": "markdown",
   "metadata": {},
   "source": [
    "```\n",
    "kem1 = np.exp(em/26.0) \n",
    "ina  = (-600*fo**2)*em*(no-ni*kem1)/((100+no+ni)*(kem1-1.0)) \n",
    "```"
   ]
  },
  {
   "cell_type": "markdown",
   "metadata": {},
   "source": [
    "--------"
   ]
  },
  {
   "cell_type": "markdown",
   "metadata": {},
   "source": [
    "$\\large{K_{ca} = 0.025 e^{\\frac{(em+60)}{12}}}$"
   ]
  },
  {
   "cell_type": "markdown",
   "metadata": {},
   "source": [
    "---------"
   ]
  },
  {
   "cell_type": "code",
   "execution_count": null,
   "metadata": {},
   "outputs": [],
   "source": [
    "kca  = 0.025*np.exp((em+60)/12.0)                          \n",
    "foc  = foc+ (frc*kca-foc*(0.5+0.25/kca))*dt\n",
    "frc  = frc+((1-frc)*(0.15/kca)-(fr*kca))*dt \n",
    "ica = -900*(fo**2)*em*(co-ci*kem1**2)/((100+co+ci)*(kem1**2-1.0))"
   ]
  },
  {
   "cell_type": "markdown",
   "metadata": {},
   "source": [
    "-------"
   ]
  },
  {
   "cell_type": "code",
   "execution_count": null,
   "metadata": {},
   "outputs": [],
   "source": []
  },
  {
   "cell_type": "code",
   "execution_count": null,
   "metadata": {},
   "outputs": [],
   "source": []
  }
 ],
 "metadata": {
  "kernelspec": {
   "display_name": "Python 3",
   "language": "python",
   "name": "python3"
  },
  "language_info": {
   "codemirror_mode": {
    "name": "ipython",
    "version": 3
   },
   "file_extension": ".py",
   "mimetype": "text/x-python",
   "name": "python",
   "nbconvert_exporter": "python",
   "pygments_lexer": "ipython3",
   "version": "3.7.6"
  }
 },
 "nbformat": 4,
 "nbformat_minor": 4
}
